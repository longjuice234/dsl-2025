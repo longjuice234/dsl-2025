{
  "nbformat": 4,
  "nbformat_minor": 0,
  "metadata": {
    "colab": {
      "provenance": [],
      "include_colab_link": true
    },
    "kernelspec": {
      "name": "python3",
      "display_name": "Python 3"
    },
    "language_info": {
      "name": "python"
    }
  },
  "cells": [
    {
      "cell_type": "markdown",
      "metadata": {
        "id": "view-in-github",
        "colab_type": "text"
      },
      "source": [
        "<a href=\"https://colab.research.google.com/github/longjuice234/dsl-2025/blob/main/Group_5_DSL_CMOD_A7_UART.ipynb\" target=\"_parent\"><img src=\"https://colab.research.google.com/assets/colab-badge.svg\" alt=\"Open In Colab\"/></a>"
      ]
    },
    {
      "cell_type": "code",
      "execution_count": null,
      "metadata": {
        "id": "wwKw5sGOmE-J"
      },
      "outputs": [],
      "source": [
        "!pip install git+https://github.com/pe8sutd/eda4u &> /dev/null\n",
        "!git clone https://github.com/pe8sutd/eda4u &> /dev/null\n",
        "%load_ext plugin"
      ]
    },
    {
      "cell_type": "markdown",
      "source": [],
      "metadata": {
        "id": "okGv-HZXqWFG"
      }
    },
    {
      "cell_type": "markdown",
      "source": [
        "---\n",
        "# Design steps:\n",
        "1. Create a new Vivado Project\n",
        "— Use CMOD A7 Board\n",
        "2. Create Constraint file\n",
        "— Select Switches, Buttons, Segments, etc to be used\n",
        "3. Create Design Source\n",
        "— Input Verilog code\n",
        "4. Create Simulation file\n",
        "— Input Testbench Code, set simulation file as top\n",
        "5. Run Simulation\n",
        "6. Program device"
      ],
      "metadata": {
        "id": "D4yJGCmSoZXq"
      }
    },
    {
      "cell_type": "markdown",
      "source": [
        "---\n",
        "#Code Breakdown\n",
        "The verilog program is divided into 4 main modules: the clocks, the 7-segment display, UART and the ADC\n",
        "\n",
        "the ADC measures temperature and light data from the environment and outputs a digital signal at the frequency of 1Hz to the FPGA.\n",
        "\n",
        "The 7-segment display will display the current value measured from the ADC.\n",
        "\n",
        "The UART handles the transmission of data from the FPGA to the computer. It checks for odd parity.\n",
        "\n",
        "When the reset button is pressed, it stops the clock and stop the receiving of data of the ADC. This means the FPGA will not send data."
      ],
      "metadata": {
        "id": "cQ6kQuXDrXzN"
      }
    },
    {
      "cell_type": "markdown",
      "source": [
        "---\n",
        "#Top_module"
      ],
      "metadata": {
        "id": "NDy5cohmK6Jk"
      }
    },
    {
      "cell_type": "code",
      "source": [
        "module top_module(\n",
        "        input sysclk,\n",
        "        input [1:0] btn,\n",
        "        output pio37,\n",
        "        output pio38,\n",
        "        output pio39,\n",
        "        output pio40,\n",
        "        output pio41,\n",
        "        output pio42,\n",
        "        output pio43,\n",
        "        output pio44,\n",
        "        output pio45,\n",
        "        output pio46,\n",
        "        output pio47,\n",
        "        output pio48,\n",
        "        output [1:0] led,\n",
        "        //External ADC MCP3202 Pin;\n",
        "        output adc_din,\n",
        "        output adc_clk,\n",
        "        output adc_csn,\n",
        "        input  adc_dout,\n",
        "        //UART Tx Pin;\n",
        "        output uart_rxd_out\n",
        ");\n",
        "\n",
        "//RESET SYSTEM CONFIG;\n",
        "wire rstn;\n",
        "assign rstn = ~btn[1];\n",
        "\n",
        "//CLOCK TREE CONFIG;\n",
        "wire CLK500Hz,CLK1Hz,CLK_ADC,CLK_UART,CLK2Hz;\n",
        "\n",
        "clock_div clk_div_u1(rstn,sysclk,CLK500Hz);\n",
        "clock_div clk_div_u2(rstn,CLK500Hz,CLK1Hz);\n",
        "clock_div clk_div_u3(rstn,sysclk,CLK_ADC);\n",
        "clock_div clk_div_u4(rstn,sysclk,CLK_UART);\n",
        "clock_div clk_div_u5(rstn,sysclk,CLK2Hz);\n",
        "\n",
        "defparam clk_div_u1.FREQ_INPUT  = 12_000_000;\n",
        "defparam clk_div_u1.FREQ_OUTPUT = 500;\n",
        "defparam clk_div_u2.FREQ_INPUT  = 500;\n",
        "defparam clk_div_u2.FREQ_OUTPUT = 1;\n",
        "defparam clk_div_u3.FREQ_INPUT  = 12_000_000;\n",
        "defparam clk_div_u3.FREQ_OUTPUT = 2_000_000;\n",
        "defparam clk_div_u4.FREQ_INPUT  = 12_000_000;\n",
        "defparam clk_div_u4.FREQ_OUTPUT = 9600;\n",
        "defparam clk_div_u5.FREQ_INPUT  = 12_000_000;\n",
        "defparam clk_div_u5.FREQ_OUTPUT = 2;\n",
        "\n",
        "//7SEGMENT DISPLAY CONFIG;\n",
        "reg [11:0] Segment_data;\n",
        "drv_segment segment_u0(rstn,CLK500Hz,{4'h0,Segment_data},{pio43,pio46,pio47,pio37},{pio40,pio38,pio45,pio42,pio41,pio39,pio48,pio44});\n",
        "\n",
        "//EXTERNAL ADC MCP3202 CONFIG;\n",
        "// DRV FREQ : 2MHZ;\n",
        "// CHANNEL : ONLY CHANNEL 0;\n",
        "localparam  SINGLE_CHAN0  = 2'b10;\n",
        "localparam  SINGLE_CHAN1  = 2'b11;\n",
        "\n",
        "reg adc_ready;\n",
        "wire adc_vaild;\n",
        "wire [11:0] adc_data;\n",
        "\n",
        "drv_mcp3202 drv_mcp3202_u0(\n",
        "    .rstn(rstn),\n",
        "    .clk(CLK_ADC),\n",
        "    .ap_ready(adc_ready),\n",
        "    .ap_vaild(adc_vaild),\n",
        "    .mode(SINGLE_CHAN0),\n",
        "    .data(adc_data),\n",
        "\n",
        "    .port_din(adc_dout),\n",
        "    .port_dout(adc_din), //adc_din\n",
        "    .port_clk(adc_clk),\n",
        "    .port_cs(adc_csn)\n",
        ");\n",
        "\n",
        "// ADC SAMPLING EVENT (FREQ:1HZ)\n",
        "always @(negedge rstn, posedge adc_vaild,posedge CLK1Hz) begin\n",
        "    if(!rstn) begin\n",
        "        adc_ready <= 1'b0;\n",
        "        Segment_data <= 12'hABC;\n",
        "    end else begin\n",
        "        if(adc_vaild) begin\n",
        "            Segment_data <= adc_data;\n",
        "            adc_ready <= 1'b0;\n",
        "        end\n",
        "        else begin\n",
        "            adc_ready <= 1'b1;\n",
        "        end\n",
        "    end\n",
        "end\n",
        "\n",
        "\n",
        "//UART Tx Event Config (FREQ:9600)\n",
        "\n",
        "reg uart_ready;\n",
        "wire uart_vaild;\n",
        "reg [7:0] uart_data;\n",
        "reg hl_sel;\n",
        "\n",
        "drv_uart_tx drv_uart_u0(\n",
        "    .clk(CLK_UART),\n",
        "    .ap_rstn(rstn),\n",
        "    .ap_ready(uart_ready),\n",
        "    .ap_vaild(uart_vaild),\n",
        "    .tx(uart_rxd_out),\n",
        "    .pairty(1'b0),\n",
        "    .data(uart_data)\n",
        ");\n",
        "\n",
        "always @(negedge rstn, posedge uart_vaild,negedge CLK2Hz) begin\n",
        "    if(!rstn) begin\n",
        "        uart_ready <= 1'b0;\n",
        "        hl_sel <= 1'b0;\n",
        "    end else begin\n",
        "        if(uart_vaild) begin\n",
        "            uart_data <= (hl_sel)? {4'h0, Segment_data[11:8]}: Segment_data[7:0];\n",
        "            uart_ready   <= 1'b0;\n",
        "        end\n",
        "        else begin\n",
        "            uart_ready  <= 1'b1;\n",
        "            hl_sel      <= ~hl_sel;\n",
        "        end\n",
        "    end\n",
        "end\n",
        "\n",
        "\n",
        "endmodule\n"
      ],
      "metadata": {
        "id": "wnbgKDlSK4RV"
      },
      "execution_count": null,
      "outputs": []
    },
    {
      "cell_type": "markdown",
      "source": [
        "---\n",
        "# ADC code\n",
        "\n",
        "This module controls the communication process through a finite state machine (FSM), which operates in four states: Idle, Write, Read, and Stop."
      ],
      "metadata": {
        "id": "LRzVRgrmLDsO"
      }
    },
    {
      "cell_type": "code",
      "source": [
        "module drv_mcp3202(\n",
        "    input rstn,\n",
        "    input clk,\n",
        "    input   ap_ready,\n",
        "    output  reg ap_vaild,\n",
        "    input   [1:0] mode,\n",
        "    output  [11:0] data,\n",
        "\n",
        "    input   port_din,\n",
        "    output  reg port_dout,\n",
        "    output  port_clk,\n",
        "    output  reg port_cs\n",
        ");\n",
        "\n",
        "wire    [3:0]      Data_Transmit; // 4 bits CONTROL;\n",
        "reg     [12:0]     Data_Receive;  // 1 bit NULL + 12 bits DATA;\n",
        "\n",
        "assign Data_Transmit[3]    = 1'b1;\n",
        "assign Data_Transmit[0]    = 1'b1;\n",
        "assign Data_Transmit[2:1] = mode;\n",
        "\n",
        "reg [1:0]   fsm_statu,fsm_next;\n",
        "localparam FSM_IDLE = 2'b00;\n",
        "localparam FSM_WRIT = 2'b10;\n",
        "localparam FSM_READ = 2'b11;\n",
        "localparam FSM_STOP = 2'b01;\n",
        "\n",
        "reg [1:0] cnter_writ;\n",
        "reg [3:0] cnter_read;\n",
        "\n",
        "//FSM statu transfer;\n",
        "always @(posedge clk, negedge rstn) begin\n",
        "    if (!rstn)  fsm_statu <= FSM_IDLE;\n",
        "    else        fsm_statu <= fsm_next;\n",
        "end\n",
        "\n",
        "//FSM Transfer Condition;\n",
        "always @(*)begin\n",
        "    if(!rstn) fsm_next <= FSM_IDLE;\n",
        "    else begin\n",
        "        case (fsm_statu)\n",
        "            FSM_IDLE : fsm_next <= (ap_ready)? FSM_WRIT : FSM_IDLE;\n",
        "            FSM_WRIT : fsm_next <= (2'd0 == cnter_writ)? FSM_READ : FSM_WRIT;\n",
        "            FSM_READ : fsm_next <= (2'd0 == cnter_read)? FSM_STOP : FSM_READ;\n",
        "            FSM_STOP : fsm_next <= (!ap_ready)? FSM_STOP : FSM_IDLE;\n",
        "            default  : fsm_next <= FSM_IDLE;\n",
        "        endcase\n",
        "    end\n",
        "end\n",
        "\n",
        "//FSM Output - SPI Write Data\n",
        "always @(negedge rstn,negedge clk)begin\n",
        "    if (!rstn) begin\n",
        "        cnter_writ  <= 2'd3;\n",
        "        port_dout   <= 1'b1;\n",
        "        port_cs     <= 1'b1;\n",
        "    end else begin\n",
        "        case (fsm_statu)\n",
        "            FSM_IDLE : begin\n",
        "                cnter_writ  <= 2'd3;\n",
        "                port_dout   <= 1'b1;\n",
        "                port_cs     <= 1'b1;\n",
        "            end\n",
        "            FSM_WRIT : begin\n",
        "                port_cs     <= 1'b0;\n",
        "                port_dout   <= Data_Transmit[cnter_writ];\n",
        "                cnter_writ  <= cnter_writ - 1'b1;\n",
        "            end\n",
        "            FSM_READ : begin\n",
        "                port_cs     <= 1'b0;\n",
        "                port_dout   <= 1'b1;\n",
        "            end\n",
        "            FSM_STOP : port_cs     <= 1'b1;\n",
        "            default  : ;\n",
        "        endcase\n",
        "    end\n",
        "end\n",
        "\n",
        "//FSM Output - SPI Read  Data\n",
        "always @(negedge rstn,posedge clk)begin\n",
        "    if (!rstn) begin\n",
        "        cnter_read  <= 4'd13;\n",
        "        Data_Receive <= 13'h00;\n",
        "        ap_vaild = 1'b0;\n",
        "    end else begin\n",
        "        case (fsm_statu)\n",
        "            FSM_IDLE : begin\n",
        "                ap_vaild = 1'b0;\n",
        "                cnter_read  <= 4'd13;\n",
        "            end\n",
        "            FSM_WRIT : begin\n",
        "                Data_Receive <= 13'h00;\n",
        "            end\n",
        "            FSM_READ : begin\n",
        "                cnter_read <= cnter_read - 1'b1;\n",
        "                Data_Receive[cnter_read] <= port_din;\n",
        "            end\n",
        "            FSM_STOP : ap_vaild = 1'b1;\n",
        "            default  : ;\n",
        "        endcase\n",
        "    end\n",
        "end\n",
        "\n",
        "assign port_clk = clk | port_cs;\n",
        "assign data = Data_Receive[11:0];\n",
        "\n",
        "endmodule"
      ],
      "metadata": {
        "id": "9NxEwxF8KkV0"
      },
      "execution_count": null,
      "outputs": []
    },
    {
      "cell_type": "markdown",
      "source": [
        "---\n",
        "#7-segment display code"
      ],
      "metadata": {
        "id": "pBxdAfvoLJvj"
      }
    },
    {
      "cell_type": "code",
      "source": [
        "module drv_segment(\n",
        "    input rstn,\n",
        "    input clk500hz,\n",
        "    input [15:0] bcd_num,\n",
        "    output [3:0] an,\n",
        "    output [7:0] segment\n",
        ");\n",
        "\n",
        "reg [7:0] segment_r;\n",
        "reg [3:0] an_r;\n",
        "assign segment = ~ segment_r;\n",
        "reg [3:0] cur_num_r;        //Register - BCD Number Display at this moment;\n",
        "assign an = ~an_r;\n",
        "//Drive 7Segment Anode;\n",
        "//When an_r == 0001, DIG4 will turn on;\n",
        "//When an_r == 0001, at posedge clk500hz, an_r will be set to 0010(DIG3 ON);\n",
        "//When an_r == 0010, at posedge clk500hz, an_r will be set to 0100(DIG2 ON);\n",
        "//....\n",
        "//DIG4 -> DIG3 -> DIG2 -> DIG1 -> DIG4 -> DIG3 -> DIG2 -> ...;\n",
        "always @(negedge rstn,posedge clk500hz)begin\n",
        "    if(!rstn)begin\n",
        "        an_r <= 4'b0000;    //When system reset, empty all display;\n",
        "    end\n",
        "    else begin\n",
        "        case(an_r)\n",
        "        4'b0001: an_r <= 4'b0010;   //DISPLAY ON DIG3\n",
        "        4'b0010: an_r <= 4'b0100;   //DISPLAY ON DIG2\n",
        "        4'b0100: an_r <= 4'b1000;   //DISPLAY ON DIG1\n",
        "        default: an_r <= 4'b0001;   //DISPLAY ON DIG4\n",
        "        endcase\n",
        "    end\n",
        "end\n",
        "\n",
        "//When DIG4 on, BCD Number Display at this moment is bcd_num[3:0];  (i.e Stop Watch - Second Unit)\n",
        "//When DIG3 on, BCD Number Display at this moment is bcd_num[7:4];  (i.e Stop Watch - Second Decade)\n",
        "//When DIG2 on, BCD Number Display at this moment is bcd_num[11:8]; (i.e Stop Watch - Minute Unit)\n",
        "//When DIG1 on, BCD Number Display at this moment is bcd_num[15:12];(i.e Stop Watch - Minute Decade)\n",
        "always @(an_r,bcd_num)begin\n",
        "    case(an_r)\n",
        "        4'b0001: cur_num_r <= bcd_num[3:0];\n",
        "        4'b0010: cur_num_r <= bcd_num[7:4];\n",
        "        4'b0100: cur_num_r <= bcd_num[11:8];\n",
        "        4'b1000: cur_num_r <= bcd_num[15:12];\n",
        "        default: cur_num_r <= 4'b0;\n",
        "    endcase\n",
        "end\n",
        "\n",
        "//Decode BCD NUM into corrosponding 7Segment Code;\n",
        "always @(cur_num_r) begin\n",
        "    case(cur_num_r)\n",
        "        4'h0:segment_r <= 8'hc0;    //NUM \"0\"\n",
        "        4'h1:segment_r <= 8'hf9;    //NUM \"1\"\n",
        "        4'h2:segment_r <= 8'ha4;    //NUM \"2\"\n",
        "        4'h3:segment_r <= 8'hb0;    //NUM \"3\"\n",
        "        4'h4:segment_r <= 8'h99;    //NUM \"4\"\n",
        "        4'h5:segment_r <= 8'h92;    //NUM \"5\"\n",
        "        4'h6:segment_r <= 8'h82;    //NUM \"6\"\n",
        "        4'h7:segment_r <= 8'hF8;    //NUM \"7\"\n",
        "        4'h8:segment_r <= 8'h80;    //NUM \"8\"\n",
        "        4'h9:segment_r <= 8'h90;    //NUM \"9\"\n",
        "        4'ha:segment_r <= 8'h88;    //NUM \"A\" - HEX NUMBER DISPLAY\n",
        "        4'hb:segment_r <= 8'h83;    //NUM \"b\"\n",
        "        4'hc:segment_r <= 8'hc6;    //NUM \"C\"\n",
        "        4'hd:segment_r <= 8'ha1;    //NUM \"D\"\n",
        "        4'he:segment_r <= 8'h86;    //NUM \"E\"\n",
        "        4'hf:segment_r <= 8'h8e;    //NUM \"F\"\n",
        "        default: segment_r <= 8'hff;\n",
        "    endcase\n",
        "end\n",
        "\n",
        "endmodule\n"
      ],
      "metadata": {
        "id": "FausF9eCKsnd"
      },
      "execution_count": null,
      "outputs": []
    },
    {
      "cell_type": "markdown",
      "source": [
        "---\n",
        "#UART code\n",
        "\n",
        "This module makes use of a state machine with 5 states whose operations are ordered and summarised as follows:\n",
        "\n",
        "The drv_uart_tx module begins in the Idle state, where it waits for the ap_ready signal to go high. Once ready, it transitions to the Start Bit state, sending a low (0) start bit, and moves to the Data Transmission state. In this state, the 8 data bits from data are transmitted serially, with the tx signal updated for each bit, and a counter (cnter) tracking the bit position. After transmitting all 8 data bits, the module checks if a Parity Bit is needed. If parity is enabled, the module calculates and sends the parity bit before transitioning to the Stop Bit state. In the Stop Bit state, a high (1) stop bit is sent, and once the transmission is complete, ap_vaild is asserted to signal the end. The module then returns to the Idle state when ap_ready goes low, ready for the next transmission cycle."
      ],
      "metadata": {
        "id": "3Lr2I55yLP1s"
      }
    },
    {
      "cell_type": "code",
      "source": [
        "module drv_uart_tx(\n",
        "    input   clk,\n",
        "    input   ap_rstn,\n",
        "    input   ap_ready,\n",
        "    output  reg ap_vaild,\n",
        "    output  reg tx,\n",
        "    input   pairty,\n",
        "    input  [7:0] data\n",
        ");\n",
        "\n",
        "localparam  FSM_IDLE = 3'b000,\n",
        "            FSM_STAR = 3'b001,\n",
        "            FSM_TRSF = 3'b010,\n",
        "            FSM_PARI = 3'b011,\n",
        "            FSM_STOP = 3'b100;\n",
        "\n",
        "reg [2:0] fsm_statu;\n",
        "reg [2:0] fsm_next;\n",
        "reg [2:0] cnter;\n",
        "\n",
        "//fsm statu transfer;\n",
        "always @(posedge clk, negedge ap_rstn) begin\n",
        "    if (!ap_rstn)begin\n",
        "        fsm_statu <= FSM_IDLE;\n",
        "    end else begin\n",
        "        fsm_statu <= fsm_next;\n",
        "    end\n",
        "end\n",
        "\n",
        "//fsm conditional transfer;\n",
        "always @(*)begin\n",
        "    if(!ap_rstn)begin\n",
        "        fsm_next <= FSM_IDLE;\n",
        "    end else begin\n",
        "        case(fsm_statu)\n",
        "            FSM_IDLE:begin\n",
        "                fsm_next <= (ap_ready) ? FSM_STAR : FSM_IDLE;\n",
        "            end\n",
        "            FSM_STAR: fsm_next <= FSM_TRSF;\n",
        "            FSM_TRSF:begin\n",
        "                fsm_next <= (cnter == 3'h7) ? (pairty?FSM_PARI:FSM_STOP) : FSM_TRSF;\n",
        "            end\n",
        "            FSM_PARI: fsm_next <= FSM_STOP;\n",
        "            FSM_STOP:begin\n",
        "                fsm_next <= (!ap_ready) ? FSM_IDLE : FSM_STOP;\n",
        "            end\n",
        "            default: fsm_next <= FSM_IDLE;\n",
        "        endcase\n",
        "    end\n",
        "end\n",
        "\n",
        "//fsm - output\n",
        "always @(posedge clk, negedge ap_rstn)begin\n",
        "    if(!ap_rstn)begin\n",
        "        ap_vaild <= 1'b0;\n",
        "        tx <= 1'b1;\n",
        "        cnter <= 3'h0;\n",
        "    end else begin\n",
        "        case (fsm_statu)\n",
        "            FSM_IDLE: begin\n",
        "                tx <= 1'b1;\n",
        "                ap_vaild <= 1'b0;\n",
        "            end\n",
        "            FSM_STAR: begin\n",
        "                tx <= 1'b0;\n",
        "                cnter <= 3'h0;\n",
        "            end\n",
        "            FSM_TRSF: begin\n",
        "                tx <= data[cnter];\n",
        "                cnter <= cnter + 1'b1;\n",
        "            end\n",
        "            FSM_PARI: tx <= (^data); //Parity Check - ODD Check;\n",
        "            FSM_STOP: begin\n",
        "                tx <= 1'b1;         //Stop Bit;\n",
        "                ap_vaild <= 1'b1;\n",
        "            end\n",
        "        endcase\n",
        "    end\n",
        "end\n",
        "\n",
        "endmodule\n"
      ],
      "metadata": {
        "id": "bWdtMlyaKv9b"
      },
      "execution_count": null,
      "outputs": []
    },
    {
      "cell_type": "markdown",
      "source": [
        "---\n",
        "#Video\n",
        "\n"
      ],
      "metadata": {
        "id": "KqukFU51qBhI"
      }
    },
    {
      "cell_type": "markdown",
      "source": [
        "https://drive.google.com/file/d/1WcxQuHtAusd5KP4Jos5kztUGid1_sEj4/view?usp=sharing"
      ],
      "metadata": {
        "id": "BBH-3OhILwOi"
      }
    },
    {
      "cell_type": "markdown",
      "source": [
        "---\n",
        "#Challenges\n"
      ],
      "metadata": {
        "id": "7RuaVWfKYDaH"
      }
    },
    {
      "cell_type": "markdown",
      "source": [
        "1. Ensuring the many pins of the CMOD A7 board were properly and correctly wired to the 7-segment display.\n",
        "2. Finding the right, specific micro-USB cable that will allow the program to run properly in the CMOD A7 board.\n",
        "3. Ensuring source and constraint files are correctly imported into the project"
      ],
      "metadata": {
        "id": "Z7511Ox2L1-1"
      }
    },
    {
      "cell_type": "markdown",
      "source": [
        "---\n",
        "#AI Usage"
      ],
      "metadata": {
        "id": "KoSS9huDBvPF"
      }
    },
    {
      "cell_type": "markdown",
      "source": [
        " Chatgpt was used to understand the workings of specific modules, especially the ones using FSMs (the ADC and UART module)"
      ],
      "metadata": {
        "id": "M4Df_pc8B2Vf"
      }
    }
  ]
}